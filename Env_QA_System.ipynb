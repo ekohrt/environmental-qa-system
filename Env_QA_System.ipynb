{
  "cells": [
    {
      "cell_type": "markdown",
      "metadata": {
        "id": "MqUPQvC2vf9C"
      },
      "source": [
        "# Environmental Issues QA System\n",
        "\n",
        "Prototype of a Question-Answering (QA) system for learning about environmental issues.  \n",
        "\n",
        "The system queries a set of environment-related Wikipedia articles for relevant passages, then uses a fine-tuned language model to produce a list of possible answers. The articles were downloaded in a separate notebook, based on the index page below. Modified from the Haystack Pipeline tutorial, see the original below for more detailed comments. Author: ekohrt.\n",
        "\n",
        "[Original Tutorial Source](https://colab.research.google.com/github/deepset-ai/haystack/blob/main/tutorials/Tutorial1_Basic_QA_Pipeline.ipynb)\n",
        "\n",
        "[Wikipedia Index of Environmental Articles](https://en.wikipedia.org/wiki/Index_of_environmental_articles)"
      ]
    },
    {
      "cell_type": "markdown",
      "metadata": {
        "collapsed": false,
        "id": "188TNAxOvf9J"
      },
      "source": [
        "### Prepare environment\n",
        "\n",
        "#### Colab: Enable the GPU runtime\n",
        "Make sure you enable the GPU runtime to experience decent speed in this tutorial.\n",
        "**Runtime -> Change Runtime type -> Hardware accelerator -> GPU**\n",
        "\n",
        "<img src=\"https://raw.githubusercontent.com/deepset-ai/haystack/main/docs/img/colab_gpu_runtime.jpg\">"
      ]
    },
    {
      "cell_type": "code",
      "execution_count": 7,
      "metadata": {
        "id": "LH3hg9revf9L"
      },
      "outputs": [],
      "source": [
        "%%capture\n",
        "# Install the latest release of Haystack\n",
        "! pip install farm-haystack\n",
        "\n",
        "# Install the latest main of Haystack\n",
        "!pip install --upgrade pip\n",
        "!pip install git+https://github.com/deepset-ai/haystack.git#egg=farm-haystack[colab]"
      ]
    },
    {
      "cell_type": "code",
      "execution_count": 8,
      "outputs": [],
      "source": [
        "from haystack.utils import clean_wiki_text, convert_files_to_docs, print_answers\n",
        "from haystack.nodes import FARMReader, TransformersReader"
      ],
      "metadata": {
        "pycharm": {
          "name": "#%%\n"
        },
        "id": "LwdDsVnQvf9N"
      }
    },
    {
      "cell_type": "markdown",
      "metadata": {
        "id": "2VVS7QL-vf9O"
      },
      "source": [
        "## Document Store\n",
        "\n",
        "Haystack finds answers to queries within the documents stored in a `DocumentStore`. The current implementations of `DocumentStore` include `ElasticsearchDocumentStore`, `FAISSDocumentStore`,  `SQLDocumentStore`, and `InMemoryDocumentStore`.\n",
        "\n",
        "### Start an Elasticsearch server\n",
        "Manually download and execute Elasticsearch from source."
      ]
    },
    {
      "cell_type": "code",
      "execution_count": 9,
      "metadata": {
        "id": "Np9C1cdnvf9R"
      },
      "outputs": [],
      "source": [
        "# In Colab / No Docker environments: Start Elasticsearch from source\n",
        "! wget https://artifacts.elastic.co/downloads/elasticsearch/elasticsearch-7.9.2-linux-x86_64.tar.gz -q\n",
        "! tar -xzf elasticsearch-7.9.2-linux-x86_64.tar.gz\n",
        "! chown -R daemon:daemon elasticsearch-7.9.2\n",
        "\n",
        "import os\n",
        "from subprocess import Popen, PIPE, STDOUT\n",
        "\n",
        "es_server = Popen(\n",
        "    [\"elasticsearch-7.9.2/bin/elasticsearch\"], stdout=PIPE, stderr=STDOUT, preexec_fn=lambda: os.setuid(1)  # as daemon\n",
        ")\n",
        "# wait until ES has started\n",
        "! sleep 30"
      ]
    },
    {
      "cell_type": "code",
      "execution_count": 10,
      "metadata": {
        "pycharm": {
          "name": "#%%\n"
        },
        "id": "izA8L4Mtvf9S"
      },
      "outputs": [],
      "source": [
        "# Connect to Elasticsearch\n",
        "\n",
        "from haystack.document_stores import ElasticsearchDocumentStore\n",
        "\n",
        "document_store = ElasticsearchDocumentStore(host=\"localhost\", username=\"\", password=\"\", index=\"document\")"
      ]
    },
    {
      "cell_type": "markdown",
      "metadata": {
        "pycharm": {
          "name": "#%% md\n"
        },
        "id": "n9nKeSJzvf9T"
      },
      "source": [
        "## Loading Documents and Preprocessing"
      ]
    },
    {
      "cell_type": "code",
      "execution_count": 11,
      "metadata": {
        "pycharm": {
          "name": "#%%\n"
        },
        "outputId": "3199c390-9316-43a8-f17e-f30109043e20",
        "colab": {
          "base_uri": "https://localhost:8080/"
        },
        "id": "Te_Kc1QFP7BC"
      },
      "outputs": [
        {
          "output_type": "stream",
          "name": "stdout",
          "text": [
            "Drive already mounted at /content/drive; to attempt to forcibly remount, call drive.mount(\"/content/drive\", force_remount=True).\n",
            "<Document: id=f5f3761d5bfc109259df472f757b14d0, content='\n",
            "== Environmental issues with conventional burials ==\n",
            "Each year, 22 500 cemeteries across the United ...'>\n"
          ]
        }
      ],
      "source": [
        "# Fetch documents to query (collection of 1397 Wikipedia articles about environmental issues)\n",
        "from google.colab import drive\n",
        "drive.mount('/content/drive')\n",
        "doc_dir = \"/content/drive/MyDrive/Colab Notebooks/Wiki_Env_Articles/\"\n",
        "\n",
        "# Convert files to dicts\n",
        "docs = convert_files_to_docs(dir_path=doc_dir, clean_func=clean_wiki_text, split_paragraphs=True)\n",
        "\n",
        "# look at en example entry:\n",
        "print(docs[42])\n",
        "\n",
        "# Now, let's write the dicts containing documents to our DB.\n",
        "document_store.write_documents(docs)"
      ]
    },
    {
      "cell_type": "markdown",
      "metadata": {
        "id": "S5yF2WSDvf9U"
      },
      "source": [
        "## Initialize Retriever, Reader & Pipeline\n",
        "\n",
        "### Retriever\n",
        "\n",
        "Retrievers help narrow down the scope for the Reader to smaller units of text where a given question could be answered.  \n",
        "We use Elasticsearch's default BM25 algorithm.\n"
      ]
    },
    {
      "cell_type": "code",
      "execution_count": 12,
      "metadata": {
        "id": "2h-uN28fvf9U"
      },
      "outputs": [],
      "source": [
        "from haystack.nodes import BM25Retriever\n",
        "\n",
        "retriever = BM25Retriever(document_store=document_store)"
      ]
    },
    {
      "cell_type": "markdown",
      "metadata": {
        "id": "S3-tgzgAvf9V"
      },
      "source": [
        "### Reader\n",
        "\n",
        "A Reader scans the texts returned by retrievers in detail and extracts the k best answers. \n",
        "\n",
        "#### FARMReader"
      ]
    },
    {
      "cell_type": "code",
      "execution_count": 10,
      "metadata": {
        "pycharm": {
          "is_executing": false
        },
        "id": "KM317TlAvf9W",
        "outputId": "b8a448aa-b392-4d05-8213-68d13419eed2",
        "colab": {
          "base_uri": "https://localhost:8080/",
          "height": 209,
          "referenced_widgets": [
            "ecad4b7a00fa47a2860c7a71f1fcc8b8",
            "d748bf109294429a89131f8e1f78e886",
            "568c1a0a3b554d95b3bb57df32100d56",
            "9440a4f18f3c4194928bd84dde2b4a97",
            "1c27870c4e5b4a26ac44d2f1cb926e52",
            "1e534daecb5443f19f0459e1bf38e707",
            "861529b465ba4afc9c72635fe4df9d9e",
            "f581449e7cb54c3a9877337717a5fbdf",
            "8527b30df34644f588d416eabda0a26a",
            "e6dd26c6c54b4346b5ebbc99b7635a98",
            "cd85a1c71ee14db58b47bf13e5891f10",
            "32de7918699b454bb7eed99190d5f699",
            "5a9269b967fa410f96dff155029d6e57",
            "654923f4363e4fe9a0c0eab93c01a9d2",
            "595c0f9cee3541edb6b1eb59ca9f477b",
            "4b3ee9aba37c435484ec9ba0c93fe73f",
            "200c933fa14b4f989ab2f94cfcc4d2eb",
            "d77d76e7c4674d0aa11ba377b555fe1b",
            "560b40c38d244f999aa30873e34c818d",
            "4d8795887ee94d86ab64eddac0ea9969",
            "d8b5304996a541efa410f2a2b25d474b",
            "94354a04e4a54d69b131882cf8ad5054",
            "1890e3fcab254643ad16567d8f479620",
            "ce0f5959491c4aa3b1e3821c18ec6327",
            "3510635e3f9b42aab7493cb8575baa9d",
            "083d9f59ad254044aa926c9f8ec8217e",
            "41288d8ac0364fa9a8a45c81fb9cd452",
            "15feb0c0d35648efbe44510d343ac8ff",
            "2f3248126f3748dba6a23a1c866f5163",
            "5842c7ce15754d96bd73c9b9df8308a3",
            "876e82684dff4cf5942d1efe4dff2936",
            "9b81e85669264bb594e72c2e2e5eea26",
            "7c187b14df1a4fd389d694d6f4bc27c9",
            "565504d8e6cc4b5d9a2442c44e6bda85",
            "621112ace0604b87a74a78e652218d85",
            "21591f29122948dd8443cec5c4fd4bb8",
            "799e4f93bda148c7a8bfe331e5e00da0",
            "4c5bc3e80ead4c78aa5d6da85f8c4034",
            "015b3e94d3654630aaff3061c0253db5",
            "23ecebc9393c4c6cb2907affbcd7bcb0",
            "f1f70fa6de6c4f9090f8c3dc26fd11dd",
            "476a6d74557d4278a1034b23c138a31b",
            "ec89f9d6d6c54c02919759b6c87fbc85",
            "03ddeb5524ca4a57970df815198e9c03",
            "b59d5165fca5458e9ad54a675ab0227b",
            "35e83855d5cd47b388a83e69da4bae06",
            "808d1b845eb54809aa47acacb3439e5f",
            "5b0837f5f8b14bbe8799948f35e34723",
            "d5bfd5e8527346cdbc1d7c43b3688b3a",
            "6f322bcc3e994a1d9baf650ce3ada5b9",
            "a5f594058d0f4cdab87409577c94e9cc",
            "381f6749e10941b2a8a946d446f79960",
            "effeb218d3c84e0cbab945dccfd019f0",
            "67831d612f6f48979f5d5f0834de5c2b",
            "f1bc4b6920634a42b3c5291846c81d62",
            "72b4cf6cc986428a8f4189588d78ba81",
            "a968efbd9f574d229fa1f9e06e2026b4",
            "4bd5255aa37442b9bce654314aa1abad",
            "29a0cf25b5904a3c8e11e09ffdcbfc13",
            "3c27e2a57b4044e98191929c99361859",
            "e5855256fcd94b7dafc2ff8589b6e718",
            "f11f0779ab104346ae1c3e53aacce696",
            "a178b094fe5d4edf9735b83bd7eecd0e",
            "4bc39a74f8ea47df87460b853e79d75c",
            "376e76ccc31049d997a4a5328cf57650",
            "b6293311d9da46acac7dccb055d358b0"
          ]
        }
      },
      "outputs": [
        {
          "output_type": "display_data",
          "data": {
            "text/plain": [
              "Downloading config.json:   0%|          | 0.00/571 [00:00<?, ?B/s]"
            ],
            "application/vnd.jupyter.widget-view+json": {
              "version_major": 2,
              "version_minor": 0,
              "model_id": "ecad4b7a00fa47a2860c7a71f1fcc8b8"
            }
          },
          "metadata": {}
        },
        {
          "output_type": "display_data",
          "data": {
            "text/plain": [
              "Downloading pytorch_model.bin:   0%|          | 0.00/473M [00:00<?, ?B/s]"
            ],
            "application/vnd.jupyter.widget-view+json": {
              "version_major": 2,
              "version_minor": 0,
              "model_id": "32de7918699b454bb7eed99190d5f699"
            }
          },
          "metadata": {}
        },
        {
          "output_type": "display_data",
          "data": {
            "text/plain": [
              "Downloading tokenizer_config.json:   0%|          | 0.00/79.0 [00:00<?, ?B/s]"
            ],
            "application/vnd.jupyter.widget-view+json": {
              "version_major": 2,
              "version_minor": 0,
              "model_id": "1890e3fcab254643ad16567d8f479620"
            }
          },
          "metadata": {}
        },
        {
          "output_type": "display_data",
          "data": {
            "text/plain": [
              "Downloading vocab.json:   0%|          | 0.00/878k [00:00<?, ?B/s]"
            ],
            "application/vnd.jupyter.widget-view+json": {
              "version_major": 2,
              "version_minor": 0,
              "model_id": "565504d8e6cc4b5d9a2442c44e6bda85"
            }
          },
          "metadata": {}
        },
        {
          "output_type": "display_data",
          "data": {
            "text/plain": [
              "Downloading merges.txt:   0%|          | 0.00/446k [00:00<?, ?B/s]"
            ],
            "application/vnd.jupyter.widget-view+json": {
              "version_major": 2,
              "version_minor": 0,
              "model_id": "b59d5165fca5458e9ad54a675ab0227b"
            }
          },
          "metadata": {}
        },
        {
          "output_type": "display_data",
          "data": {
            "text/plain": [
              "Downloading special_tokens_map.json:   0%|          | 0.00/772 [00:00<?, ?B/s]"
            ],
            "application/vnd.jupyter.widget-view+json": {
              "version_major": 2,
              "version_minor": 0,
              "model_id": "72b4cf6cc986428a8f4189588d78ba81"
            }
          },
          "metadata": {}
        }
      ],
      "source": [
        "# Load a  local model or any of the QA models on Hugging Face's model hub (https://huggingface.co/models)\n",
        "reader = FARMReader(model_name_or_path=\"deepset/roberta-base-squad2\", use_gpu=True)"
      ]
    },
    {
      "cell_type": "markdown",
      "metadata": {
        "id": "SCwBugNLvf9X"
      },
      "source": [
        "### Pipeline\n",
        "\n",
        "With a Haystack `Pipeline` you can stick together your building blocks to a search pipeline.\n",
        "Under the hood, `Pipelines` are Directed Acyclic Graphs (DAGs) that you can easily customize for your own use cases.\n",
        "To speed things up, Haystack also comes with a few predefined Pipelines. One of them is the `ExtractiveQAPipeline` that combines a retriever and a reader to answer our questions.\n",
        "You can learn more about `Pipelines` in the [docs](https://haystack.deepset.ai/docs/latest/pipelinesmd)."
      ]
    },
    {
      "cell_type": "code",
      "execution_count": 48,
      "metadata": {
        "pycharm": {
          "is_executing": false
        },
        "id": "WJCPWHSQvf9X"
      },
      "outputs": [],
      "source": [
        "from haystack.pipelines import ExtractiveQAPipeline\n",
        "\n",
        "pipe = ExtractiveQAPipeline(reader, retriever)"
      ]
    },
    {
      "cell_type": "markdown",
      "metadata": {
        "id": "CKHmHFdGvf9X"
      },
      "source": [
        "## Example Questions"
      ]
    },
    {
      "cell_type": "code",
      "execution_count": 93,
      "metadata": {
        "pycharm": {
          "is_executing": false
        },
        "id": "34QgLU3tvf9Y"
      },
      "outputs": [],
      "source": [
        "# You can configure how many candidates the Reader and Retriever shall return\n",
        "from IPython.utils import io\n",
        "\n",
        "# The higher top_k_retriever, the better (but also the slower) your answers.\n",
        "def ask(query):\n",
        "  with io.capture_output() as captured: # suppress console output\n",
        "    prediction = pipe.run(\n",
        "        query=query, params={\"Retriever\": {\"top_k\": 50}, \"Reader\": {\"top_k\": 3}}\n",
        "    )\n",
        "  return prediction"
      ]
    },
    {
      "cell_type": "code",
      "execution_count": 54,
      "metadata": {
        "pycharm": {
          "is_executing": false,
          "name": "#%%\n"
        },
        "id": "sKPhczSnvf9Z",
        "colab": {
          "base_uri": "https://localhost:8080/"
        },
        "outputId": "9cdbc4b3-b7d9-4896-f9b0-85b0304931a7"
      },
      "outputs": [
        {
          "output_type": "stream",
          "name": "stdout",
          "text": [
            "\n",
            "Query: What is the main cause of deforestation in the amazon?\n",
            "Answers:\n",
            "[   {   'answer': 'cattle ranching',\n",
            "        'context': 's. Some 80% of the deforestation of the Amazon can be '\n",
            "                   'attributed to cattle ranching, as Brazil is the largest '\n",
            "                   'exporter of beef in the world. The Amazo'},\n",
            "    {   'answer': 'Consumption and production of beef',\n",
            "        'context': 'lion hectares of virgin tropical forest was lost in 2018. '\n",
            "                   'Consumption and production of beef is the primary driver '\n",
            "                   'of deforestation in the Amazon, wit'},\n",
            "    {   'answer': 'Agricultural expansion',\n",
            "        'context': 'lobally due to increasing stocks in temperate and boreal '\n",
            "                   'forest.Agricultural expansion continues to be the main '\n",
            "                   'driver of deforestation and forest fra'}]\n"
          ]
        }
      ],
      "source": [
        "# Correct: cattle ranching\n",
        "prediction = ask(\"What is the main cause of deforestation in the amazon?\")\n",
        "print_answers(prediction, details=\"minimum\")"
      ]
    },
    {
      "cell_type": "code",
      "source": [
        "# Incorrect: Qatar\n",
        "prediction = ask(\"What country has the highest per capita carbon emissions?\")\n",
        "print_answers(prediction, details=\"minimum\")"
      ],
      "metadata": {
        "colab": {
          "base_uri": "https://localhost:8080/"
        },
        "id": "FSw8yJu8WiFc",
        "outputId": "382e3522-a7dd-4294-b819-d09af8ba3255"
      },
      "execution_count": 68,
      "outputs": [
        {
          "output_type": "stream",
          "name": "stdout",
          "text": [
            "\n",
            "Query: What country has the highest per capita carbon emissions?\n",
            "Answers:\n",
            "[   {   'answer': 'U.S.',\n",
            "        'context': 'mitter at 1.8 Tonnes of CO2e respectively, compared with '\n",
            "                   'for example the U.S. at position of the 14th largest per '\n",
            "                   'capita CO2e emitter at 22.9 Tonnes o'},\n",
            "    {   'answer': 'Denmark',\n",
            "        'context': '\\n'\n",
            "                   '=== Denmark ===\\n'\n",
            "                   'As of 2002, the standard carbon tax rate since 1996 '\n",
            "                   'amounted to 100 kr. per tonne of CO2, equivalent to '\n",
            "                   'approximately €13 or US$18. T'},\n",
            "    {   'answer': 'Japan ===\\nAlthough Japan',\n",
            "        'context': '\\n'\n",
            "                   '=== Japan ===\\n'\n",
            "                   'Although Japan does not tax carbon emissions directly, '\n",
            "                   'since 2012 the country has levied a \"Tax for Climate '\n",
            "                   'Change Mitigation\" on petro'}]\n"
          ]
        }
      ]
    },
    {
      "cell_type": "code",
      "source": [
        "# Incorrect: U.S. \n",
        "prediction = ask(\"What country has produced the highest cumulative carbon emissions?\")\n",
        "print_answers(prediction, details=\"minimum\")"
      ],
      "metadata": {
        "colab": {
          "base_uri": "https://localhost:8080/"
        },
        "id": "9CyCBBdGosHa",
        "outputId": "f2cb3e5d-b0de-4984-cda6-763c478c7d8b"
      },
      "execution_count": 77,
      "outputs": [
        {
          "output_type": "stream",
          "name": "stdout",
          "text": [
            "\n",
            "Query: What country has produced the highest cumulative carbon emissions?\n",
            "Answers:\n",
            "[   {   'answer': 'Japan',\n",
            "        'context': '\\n'\n",
            "                   '=== Japan ===\\n'\n",
            "                   'Although Japan does not tax carbon emissions directly, '\n",
            "                   'since 2012 the country has levied a \"Tax for Climate '\n",
            "                   'Change Mitigation\" on petro'},\n",
            "    {   'answer': 'Norway',\n",
            "        'context': '(about US$1.3 billion in 2010 dollars).\\n'\n",
            "                   \"According to IEA's 2005 Review, Norway's CO2 tax is its \"\n",
            "                   'most important climate policy instrument, and covers a'},\n",
            "    {   'answer': 'Tokyo',\n",
            "        'context': 'n trading scheme launched in April 2010 covers the top '\n",
            "                   '1,400 emitters in Tokyo, and is enforced and overseen by '\n",
            "                   'the Tokyo Metropolitan Government. Pha'}]\n"
          ]
        }
      ]
    },
    {
      "cell_type": "code",
      "source": [
        "# Incorrect: China (weird though, since the context of the first answer actually is about China)\n",
        "prediction = ask(\"What country currently has the highest total carbon emissions?\")\n",
        "print_answers(prediction, details=\"minimum\")"
      ],
      "metadata": {
        "colab": {
          "base_uri": "https://localhost:8080/"
        },
        "id": "cDF71sFGpSNP",
        "outputId": "b714368e-da3c-4f82-c138-787ac50f57bb"
      },
      "execution_count": 96,
      "outputs": [
        {
          "output_type": "stream",
          "name": "stdout",
          "text": [
            "\n",
            "Query: What country currently has the highest total carbon emissions?\n",
            "Answers:\n",
            "[   {   'answer': 'India',\n",
            "        'context': ' carbon dioxide than the next two biggest countries '\n",
            "                   'combined (U.S.A. and India). Total carbon dioxide '\n",
            "                   'emissions were projected to increase until 2030.'},\n",
            "    {   'answer': 'United States',\n",
            "        'context': 'he UK, and accounts for about 27% of total emissions, and '\n",
            "                   '33% in the United States.  Of the total greenhouse gas '\n",
            "                   'emissions from transport, over 85% ar'},\n",
            "    {   'answer': 'Japan',\n",
            "        'context': '\\n'\n",
            "                   '=== Japan ===\\n'\n",
            "                   'Although Japan does not tax carbon emissions directly, '\n",
            "                   'since 2012 the country has levied a \"Tax for Climate '\n",
            "                   'Change Mitigation\" on petro'}]\n"
          ]
        }
      ]
    },
    {
      "cell_type": "code",
      "source": [
        "# Correct: 1978\n",
        "prediction = ask(\"when were CFCs banned in the US?\")\n",
        "print_answers(prediction, details=\"minimum\")"
      ],
      "metadata": {
        "colab": {
          "base_uri": "https://localhost:8080/"
        },
        "id": "SA1BS4MKkKhG",
        "outputId": "ce67a76e-7798-46e6-b93b-3787e4ff43ed"
      },
      "execution_count": 65,
      "outputs": [
        {
          "output_type": "stream",
          "name": "stdout",
          "text": [
            "\n",
            "Query: when were CFCs banned in the US?\n",
            "Answers:\n",
            "[   {   'answer': '1978',\n",
            "        'context': '\\n'\n",
            "                   '==== Regulation and DuPont ====\\n'\n",
            "                   'In 1978 the United States banned the use of CFCs such as '\n",
            "                   'Freon in aerosol cans, the beginning of a long series of '\n",
            "                   'reg'},\n",
            "    {   'answer': '1978',\n",
            "        'context': 'tates, Canada and Norway banned the use of CFCs in aerosol '\n",
            "                   'spray cans in 1978. Early estimates were that, if CFC '\n",
            "                   'production continued at 1977 levels, '},\n",
            "    {   'answer': '1978',\n",
            "        'context': 'ire in 1979. The United States banned the use of CFCs in '\n",
            "                   'aerosol cans in 1978. The European Community rejected '\n",
            "                   'proposals to ban CFCs in aerosol sprays'}]\n"
          ]
        }
      ]
    },
    {
      "cell_type": "code",
      "source": [
        "# Correct: Montreal protocol\n",
        "prediction = ask(\"what treaty fixed the ozone layer?\")\n",
        "print_answers(prediction, details=\"minimum\")"
      ],
      "metadata": {
        "colab": {
          "base_uri": "https://localhost:8080/"
        },
        "id": "gubQw4Gopgx8",
        "outputId": "2285abfc-cfff-4d42-bc45-bfbad3433e97"
      },
      "execution_count": 81,
      "outputs": [
        {
          "output_type": "stream",
          "name": "stdout",
          "text": [
            "\n",
            "Query: what treaty fixed the ozone layer?\n",
            "Answers:\n",
            "[   {   'answer': 'Montreal Protocol',\n",
            "        'context': 'y for the Preservation of the Ozone Layer, or \"World Ozone '\n",
            "                   'Day\". The designation commerates the signing of the '\n",
            "                   'Montreal Protocol on that date in 1987.'},\n",
            "    {   'answer': 'Montreal Protocol',\n",
            "        'context': 'was the Chief U.S. Negotiator at the meetings that '\n",
            "                   'resulted in the Montreal Protocol.)\\n'\n",
            "                   'Chasek, P. S.; Downie, David L.; Brown, J. W. (2013). '\n",
            "                   'Global En'},\n",
            "    {   'answer': 'Montreal Protocol',\n",
            "        'context': 'was the Chief U.S. Negotiator at the meetings that '\n",
            "                   'resulted in the Montreal Protocol.)\\n'\n",
            "                   'Chasek, Pamela S., David L. Downie, and Janet Welsh Brown '\n",
            "                   '(2013'}]\n"
          ]
        }
      ]
    },
    {
      "cell_type": "code",
      "source": [
        "# 2nd guess is correct: 194\n",
        "prediction = ask(\"how many countries signed the paris agreement?\")\n",
        "print_answers(prediction, details=\"minimum\")"
      ],
      "metadata": {
        "colab": {
          "base_uri": "https://localhost:8080/"
        },
        "id": "vWDzDrwrj2o9",
        "outputId": "2b64bcdf-afcd-4d91-896c-3e7689525387"
      },
      "execution_count": 64,
      "outputs": [
        {
          "output_type": "stream",
          "name": "stdout",
          "text": [
            "\n",
            "Query: how many countries signed the paris agreement?\n",
            "Answers:\n",
            "[   {   'answer': '82',\n",
            "        'context': 'es, Samoa, St. Lucia and Switzerland. At the end of the '\n",
            "                   'signature period, 82 countries and the European Community '\n",
            "                   'had signed. Ratification (which is r'},\n",
            "    {   'answer': '194',\n",
            "        'context': 't developing countries must be financially supported. As '\n",
            "                   'of October 2021, 194 states and the European Union have '\n",
            "                   'signed the treaty and 191 states and '},\n",
            "    {   'answer': '175',\n",
            "        'context': 'ificant climate accord in the history of the climate '\n",
            "                   'movement. On Earth Day 2016, world leaders from 175 '\n",
            "                   'nations broke a record by doing exactly that.'}]\n"
          ]
        }
      ]
    },
    {
      "cell_type": "code",
      "source": [
        "# Correct, kind of: an international treaty on climate change\n",
        "prediction = ask(\"What is the paris agreement?\")\n",
        "print_answers(prediction, details=\"minimum\")"
      ],
      "metadata": {
        "colab": {
          "base_uri": "https://localhost:8080/"
        },
        "id": "6l611_SUkm4D",
        "outputId": "4f547a98-0848-42ac-9aa8-877616e61996"
      },
      "execution_count": 69,
      "outputs": [
        {
          "output_type": "stream",
          "name": "stdout",
          "text": [
            "\n",
            "Query: What is the paris agreement?\n",
            "Answers:\n",
            "[   {   'answer': 'climate change mitigation responsibilities',\n",
            "        'context': 'such as CO2 emissions reductions of 55% by 2030 by the EU, '\n",
            "                   'climate change mitigation responsibilities of the Paris '\n",
            "                   'Agreement and EU air quality rules.'},\n",
            "    {   'answer': 'to reduce emission',\n",
            "        'context': ' of climate change, not only did Nigeria sign the Paris '\n",
            "                   'agreement to reduce emission, in its national climate '\n",
            "                   'pledge, the Nigerian government has prom'},\n",
            "    {   'answer': 'climate change goals – such as the Paris Agreement on '\n",
            "                  'Climate Change',\n",
            "        'context': 'States. This means that in order to meet climate change '\n",
            "                   'goals – such as the Paris Agreement on Climate Change – '\n",
            "                   'and reduce greenhouse gas emissions, e'}]\n"
          ]
        }
      ]
    },
    {
      "cell_type": "code",
      "source": [
        "# Correct, but would prefer a more detailed answer: human activity\n",
        "prediction = ask(\"What causes global warming?\")\n",
        "print_answers(prediction, details=\"minimum\")"
      ],
      "metadata": {
        "colab": {
          "base_uri": "https://localhost:8080/"
        },
        "id": "hqMhr8F2mhBd",
        "outputId": "bf86ac93-441f-444d-a604-561f2fd217d0"
      },
      "execution_count": 73,
      "outputs": [
        {
          "output_type": "stream",
          "name": "stdout",
          "text": [
            "\n",
            "Query: What causes global warming?\n",
            "Answers:\n",
            "[   {   'answer': 'human activity',\n",
            "        'context': 'entific consensus that global warming is happening and is '\n",
            "                   'caused by human activity. Disputes over the key scientific '\n",
            "                   'facts of global warming are more '},\n",
            "    {   'answer': 'human activity',\n",
            "        'context': 'the view that the current warming trend exists and is '\n",
            "                   'ongoing, that human activity is the cause, and that it is '\n",
            "                   'without precedent in at least 2000 yea'},\n",
            "    {   'answer': 'human activities',\n",
            "        'context': '\\n'\n",
            "                   '== Background ==\\n'\n",
            "                   'The view that human activities are likely responsible for '\n",
            "                   'most of the observed increase in global mean temperature '\n",
            "                   '(\"global warming\"'}]\n"
          ]
        }
      ]
    },
    {
      "cell_type": "code",
      "source": [
        "# 2nd guess is correct: nuclear power\n",
        "prediction = ask(\"What energy source has the lowest carbon emissions?\")\n",
        "print_answers(prediction, details=\"minimum\")"
      ],
      "metadata": {
        "colab": {
          "base_uri": "https://localhost:8080/"
        },
        "id": "wGQP1qIfm_HA",
        "outputId": "b83f9a83-68a3-408d-d293-f7491595df3e"
      },
      "execution_count": 89,
      "outputs": [
        {
          "output_type": "stream",
          "name": "stdout",
          "text": [
            "\n",
            "Query: What energy source has the lowest carbon emissions?\n",
            "Answers:\n",
            "[   {   'answer': 'Hydropower',\n",
            "        'context': 'ding security during drought for drinking water supply and '\n",
            "                   'irrigation.Hydropower ranks among the energy sources with '\n",
            "                   'the lowest levels of greenhouse g'},\n",
            "    {   'answer': 'nuclear power',\n",
            "        'context': 'nt from energy consumption can be reduced through the '\n",
            "                   'development of nuclear power (a zero carbon emissions '\n",
            "                   'energy source) and alternative energy proj'},\n",
            "    {   'answer': 'wind',\n",
            "        'context': 'and reduce reliance on fossil fuels. One study claimed '\n",
            "                   'that, as of 2009, wind had the \"lowest relative greenhouse '\n",
            "                   'gas emissions, the least water consu'}]\n"
          ]
        }
      ]
    },
    {
      "cell_type": "code",
      "source": [
        "# Correct? Doesn't do well with definitions or long-form answers\n",
        "prediction = ask(\"What is the great pacific garbage patch?\")\n",
        "print_answers(prediction, details=\"minimum\")"
      ],
      "metadata": {
        "colab": {
          "base_uri": "https://localhost:8080/"
        },
        "id": "9YtQgkPGn2hj",
        "outputId": "3b3e007f-5b58-4989-b700-3f954885ffb2"
      },
      "execution_count": 90,
      "outputs": [
        {
          "output_type": "stream",
          "name": "stdout",
          "text": [
            "\n",
            "Query: What is the great pacific garbage patch?\n",
            "Answers:\n",
            "[   {   'answer': 'fishing related plastics',\n",
            "        'context': 'n estimated 46% of the Great Pacific garbage patch '\n",
            "                   'consists of fishing related plastics. Fishing nets account '\n",
            "                   'for about 1% of the total mass of all ma'},\n",
            "    {   'answer': 'Donora',\n",
            "        'context': '. Extreme smog events were experienced by the cities of '\n",
            "                   'Los Angeles and Donora, Pennsylvania, in the late 1940s, '\n",
            "                   'serving as another public reminder.Ai'},\n",
            "    {   'answer': 'a huge concentration of plastics, chemical sludge and other '\n",
            "                  'debris',\n",
            "        'context': 'oblem is the Great Pacific Garbage Patch, a huge '\n",
            "                   'concentration of plastics, chemical sludge and other '\n",
            "                   'debris which has been collected into a large are'}]\n"
          ]
        }
      ]
    },
    {
      "cell_type": "code",
      "source": [
        "# Incorrect - possibly due to limited corpus\n",
        "prediction = ask(\"Why is cryptocurrency bad for the environment?\")\n",
        "print_answers(prediction, details=\"minimum\")"
      ],
      "metadata": {
        "colab": {
          "base_uri": "https://localhost:8080/"
        },
        "id": "xKkQIl7dqK1V",
        "outputId": "0e77e6da-067b-4f89-9fce-be016a0e6c5a"
      },
      "execution_count": 91,
      "outputs": [
        {
          "output_type": "stream",
          "name": "stdout",
          "text": [
            "\n",
            "Query: Why is cryptocurrency bad for the environment?\n",
            "Answers:\n",
            "[   {   'answer': \"it's an inconvenient truth\",\n",
            "        'context': 'so hard for people to grasp.\" To which Gore replied, '\n",
            "                   '\"Because it\\'s an inconvenient truth, ya know.\" \"[...] In '\n",
            "                   \"the back of my head, I go, that's the ti\"},\n",
            "    {   'answer': 'stochastic variation',\n",
            "        'context': 'survival of a small population. Some detrimental effects '\n",
            "                   'include stochastic variation in the environment, (year to '\n",
            "                   'year variation in rainfall, tempera'},\n",
            "    {   'answer': 'in a world where political choices are not made '\n",
            "                  'democratically at a global level, but by a small number of '\n",
            "                  'rich countries and corporations, the poor and the '\n",
            "                  'environment are never going to be a priority',\n",
            "        'context': ' in a world where political choices are not made '\n",
            "                   'democratically at a global level, but by a small number of '\n",
            "                   'rich countries and corporations, the poor and the '\n",
            "                   'environment are never going to be a priority'}]\n"
          ]
        }
      ]
    },
    {
      "cell_type": "code",
      "source": [
        "# Correct: glacial melt, melt of the ice sheets in Greenland and Antarctica, and thermal expansion\n",
        "prediction = ask(\"Why does climate change make the ocean level rise?\")\n",
        "print_answers(prediction, details=\"minimum\")"
      ],
      "metadata": {
        "colab": {
          "base_uri": "https://localhost:8080/"
        },
        "id": "_UhvaslbrBIo",
        "outputId": "3846708f-6646-4193-dd2f-323ab3f10884"
      },
      "execution_count": 92,
      "outputs": [
        {
          "output_type": "stream",
          "name": "stdout",
          "text": [
            "\n",
            "Query: Why does climate change make the ocean level rise?\n",
            "Answers:\n",
            "[   {   'answer': 'glacial melt, melt of the ice sheets in Greenland and '\n",
            "                  'Antarctica, and thermal expansion',\n",
            "        'context': 'l is rising as a consequence of glacial melt, melt of the '\n",
            "                   'ice sheets in Greenland and Antarctica, and thermal '\n",
            "                   'expansion. Between 1993 and 2020, the ri'},\n",
            "    {   'answer': 'heats (and therefore expands) the ocean',\n",
            "        'context': 'his acceleration is due mostly to climate change, which '\n",
            "                   'heats (and therefore expands) the ocean and which melts '\n",
            "                   'the land-based ice sheets and glaciers'},\n",
            "    {   'answer': 'melting of the West Antarctic ice-sheet alone',\n",
            "        'context': 'ld cause a sea level rise of around 5 m (15 ft) from '\n",
            "                   'melting of the West Antarctic ice-sheet alone.In 2019, a '\n",
            "                   'study projected that in low emission sce'}]\n"
          ]
        }
      ]
    }
  ],
  "metadata": {
    "kernelspec": {
      "display_name": "Python 3",
      "language": "python",
      "name": "python3"
    },
    "language_info": {
      "codemirror_mode": {
        "name": "ipython",
        "version": 3
      },
      "file_extension": ".py",
      "mimetype": "text/x-python",
      "name": "python",
      "nbconvert_exporter": "python",
      "pygments_lexer": "ipython3",
      "version": "3.9.7"
    },
    "colab": {
      "provenance": [],
      "name": "Env_QA_System.ipynb",
      "collapsed_sections": [],
      "machine_shape": "hm"
    },
    "widgets": {
      "application/vnd.jupyter.widget-state+json": {
        "ecad4b7a00fa47a2860c7a71f1fcc8b8": {
          "model_module": "@jupyter-widgets/controls",
          "model_name": "HBoxModel",
          "model_module_version": "1.5.0",
          "state": {
            "_dom_classes": [],
            "_model_module": "@jupyter-widgets/controls",
            "_model_module_version": "1.5.0",
            "_model_name": "HBoxModel",
            "_view_count": null,
            "_view_module": "@jupyter-widgets/controls",
            "_view_module_version": "1.5.0",
            "_view_name": "HBoxView",
            "box_style": "",
            "children": [
              "IPY_MODEL_d748bf109294429a89131f8e1f78e886",
              "IPY_MODEL_568c1a0a3b554d95b3bb57df32100d56",
              "IPY_MODEL_9440a4f18f3c4194928bd84dde2b4a97"
            ],
            "layout": "IPY_MODEL_1c27870c4e5b4a26ac44d2f1cb926e52"
          }
        },
        "d748bf109294429a89131f8e1f78e886": {
          "model_module": "@jupyter-widgets/controls",
          "model_name": "HTMLModel",
          "model_module_version": "1.5.0",
          "state": {
            "_dom_classes": [],
            "_model_module": "@jupyter-widgets/controls",
            "_model_module_version": "1.5.0",
            "_model_name": "HTMLModel",
            "_view_count": null,
            "_view_module": "@jupyter-widgets/controls",
            "_view_module_version": "1.5.0",
            "_view_name": "HTMLView",
            "description": "",
            "description_tooltip": null,
            "layout": "IPY_MODEL_1e534daecb5443f19f0459e1bf38e707",
            "placeholder": "​",
            "style": "IPY_MODEL_861529b465ba4afc9c72635fe4df9d9e",
            "value": "Downloading config.json: 100%"
          }
        },
        "568c1a0a3b554d95b3bb57df32100d56": {
          "model_module": "@jupyter-widgets/controls",
          "model_name": "FloatProgressModel",
          "model_module_version": "1.5.0",
          "state": {
            "_dom_classes": [],
            "_model_module": "@jupyter-widgets/controls",
            "_model_module_version": "1.5.0",
            "_model_name": "FloatProgressModel",
            "_view_count": null,
            "_view_module": "@jupyter-widgets/controls",
            "_view_module_version": "1.5.0",
            "_view_name": "ProgressView",
            "bar_style": "success",
            "description": "",
            "description_tooltip": null,
            "layout": "IPY_MODEL_f581449e7cb54c3a9877337717a5fbdf",
            "max": 571,
            "min": 0,
            "orientation": "horizontal",
            "style": "IPY_MODEL_8527b30df34644f588d416eabda0a26a",
            "value": 571
          }
        },
        "9440a4f18f3c4194928bd84dde2b4a97": {
          "model_module": "@jupyter-widgets/controls",
          "model_name": "HTMLModel",
          "model_module_version": "1.5.0",
          "state": {
            "_dom_classes": [],
            "_model_module": "@jupyter-widgets/controls",
            "_model_module_version": "1.5.0",
            "_model_name": "HTMLModel",
            "_view_count": null,
            "_view_module": "@jupyter-widgets/controls",
            "_view_module_version": "1.5.0",
            "_view_name": "HTMLView",
            "description": "",
            "description_tooltip": null,
            "layout": "IPY_MODEL_e6dd26c6c54b4346b5ebbc99b7635a98",
            "placeholder": "​",
            "style": "IPY_MODEL_cd85a1c71ee14db58b47bf13e5891f10",
            "value": " 571/571 [00:00&lt;00:00, 21.1kB/s]"
          }
        },
        "1c27870c4e5b4a26ac44d2f1cb926e52": {
          "model_module": "@jupyter-widgets/base",
          "model_name": "LayoutModel",
          "model_module_version": "1.2.0",
          "state": {
            "_model_module": "@jupyter-widgets/base",
            "_model_module_version": "1.2.0",
            "_model_name": "LayoutModel",
            "_view_count": null,
            "_view_module": "@jupyter-widgets/base",
            "_view_module_version": "1.2.0",
            "_view_name": "LayoutView",
            "align_content": null,
            "align_items": null,
            "align_self": null,
            "border": null,
            "bottom": null,
            "display": null,
            "flex": null,
            "flex_flow": null,
            "grid_area": null,
            "grid_auto_columns": null,
            "grid_auto_flow": null,
            "grid_auto_rows": null,
            "grid_column": null,
            "grid_gap": null,
            "grid_row": null,
            "grid_template_areas": null,
            "grid_template_columns": null,
            "grid_template_rows": null,
            "height": null,
            "justify_content": null,
            "justify_items": null,
            "left": null,
            "margin": null,
            "max_height": null,
            "max_width": null,
            "min_height": null,
            "min_width": null,
            "object_fit": null,
            "object_position": null,
            "order": null,
            "overflow": null,
            "overflow_x": null,
            "overflow_y": null,
            "padding": null,
            "right": null,
            "top": null,
            "visibility": null,
            "width": null
          }
        },
        "1e534daecb5443f19f0459e1bf38e707": {
          "model_module": "@jupyter-widgets/base",
          "model_name": "LayoutModel",
          "model_module_version": "1.2.0",
          "state": {
            "_model_module": "@jupyter-widgets/base",
            "_model_module_version": "1.2.0",
            "_model_name": "LayoutModel",
            "_view_count": null,
            "_view_module": "@jupyter-widgets/base",
            "_view_module_version": "1.2.0",
            "_view_name": "LayoutView",
            "align_content": null,
            "align_items": null,
            "align_self": null,
            "border": null,
            "bottom": null,
            "display": null,
            "flex": null,
            "flex_flow": null,
            "grid_area": null,
            "grid_auto_columns": null,
            "grid_auto_flow": null,
            "grid_auto_rows": null,
            "grid_column": null,
            "grid_gap": null,
            "grid_row": null,
            "grid_template_areas": null,
            "grid_template_columns": null,
            "grid_template_rows": null,
            "height": null,
            "justify_content": null,
            "justify_items": null,
            "left": null,
            "margin": null,
            "max_height": null,
            "max_width": null,
            "min_height": null,
            "min_width": null,
            "object_fit": null,
            "object_position": null,
            "order": null,
            "overflow": null,
            "overflow_x": null,
            "overflow_y": null,
            "padding": null,
            "right": null,
            "top": null,
            "visibility": null,
            "width": null
          }
        },
        "861529b465ba4afc9c72635fe4df9d9e": {
          "model_module": "@jupyter-widgets/controls",
          "model_name": "DescriptionStyleModel",
          "model_module_version": "1.5.0",
          "state": {
            "_model_module": "@jupyter-widgets/controls",
            "_model_module_version": "1.5.0",
            "_model_name": "DescriptionStyleModel",
            "_view_count": null,
            "_view_module": "@jupyter-widgets/base",
            "_view_module_version": "1.2.0",
            "_view_name": "StyleView",
            "description_width": ""
          }
        },
        "f581449e7cb54c3a9877337717a5fbdf": {
          "model_module": "@jupyter-widgets/base",
          "model_name": "LayoutModel",
          "model_module_version": "1.2.0",
          "state": {
            "_model_module": "@jupyter-widgets/base",
            "_model_module_version": "1.2.0",
            "_model_name": "LayoutModel",
            "_view_count": null,
            "_view_module": "@jupyter-widgets/base",
            "_view_module_version": "1.2.0",
            "_view_name": "LayoutView",
            "align_content": null,
            "align_items": null,
            "align_self": null,
            "border": null,
            "bottom": null,
            "display": null,
            "flex": null,
            "flex_flow": null,
            "grid_area": null,
            "grid_auto_columns": null,
            "grid_auto_flow": null,
            "grid_auto_rows": null,
            "grid_column": null,
            "grid_gap": null,
            "grid_row": null,
            "grid_template_areas": null,
            "grid_template_columns": null,
            "grid_template_rows": null,
            "height": null,
            "justify_content": null,
            "justify_items": null,
            "left": null,
            "margin": null,
            "max_height": null,
            "max_width": null,
            "min_height": null,
            "min_width": null,
            "object_fit": null,
            "object_position": null,
            "order": null,
            "overflow": null,
            "overflow_x": null,
            "overflow_y": null,
            "padding": null,
            "right": null,
            "top": null,
            "visibility": null,
            "width": null
          }
        },
        "8527b30df34644f588d416eabda0a26a": {
          "model_module": "@jupyter-widgets/controls",
          "model_name": "ProgressStyleModel",
          "model_module_version": "1.5.0",
          "state": {
            "_model_module": "@jupyter-widgets/controls",
            "_model_module_version": "1.5.0",
            "_model_name": "ProgressStyleModel",
            "_view_count": null,
            "_view_module": "@jupyter-widgets/base",
            "_view_module_version": "1.2.0",
            "_view_name": "StyleView",
            "bar_color": null,
            "description_width": ""
          }
        },
        "e6dd26c6c54b4346b5ebbc99b7635a98": {
          "model_module": "@jupyter-widgets/base",
          "model_name": "LayoutModel",
          "model_module_version": "1.2.0",
          "state": {
            "_model_module": "@jupyter-widgets/base",
            "_model_module_version": "1.2.0",
            "_model_name": "LayoutModel",
            "_view_count": null,
            "_view_module": "@jupyter-widgets/base",
            "_view_module_version": "1.2.0",
            "_view_name": "LayoutView",
            "align_content": null,
            "align_items": null,
            "align_self": null,
            "border": null,
            "bottom": null,
            "display": null,
            "flex": null,
            "flex_flow": null,
            "grid_area": null,
            "grid_auto_columns": null,
            "grid_auto_flow": null,
            "grid_auto_rows": null,
            "grid_column": null,
            "grid_gap": null,
            "grid_row": null,
            "grid_template_areas": null,
            "grid_template_columns": null,
            "grid_template_rows": null,
            "height": null,
            "justify_content": null,
            "justify_items": null,
            "left": null,
            "margin": null,
            "max_height": null,
            "max_width": null,
            "min_height": null,
            "min_width": null,
            "object_fit": null,
            "object_position": null,
            "order": null,
            "overflow": null,
            "overflow_x": null,
            "overflow_y": null,
            "padding": null,
            "right": null,
            "top": null,
            "visibility": null,
            "width": null
          }
        },
        "cd85a1c71ee14db58b47bf13e5891f10": {
          "model_module": "@jupyter-widgets/controls",
          "model_name": "DescriptionStyleModel",
          "model_module_version": "1.5.0",
          "state": {
            "_model_module": "@jupyter-widgets/controls",
            "_model_module_version": "1.5.0",
            "_model_name": "DescriptionStyleModel",
            "_view_count": null,
            "_view_module": "@jupyter-widgets/base",
            "_view_module_version": "1.2.0",
            "_view_name": "StyleView",
            "description_width": ""
          }
        },
        "32de7918699b454bb7eed99190d5f699": {
          "model_module": "@jupyter-widgets/controls",
          "model_name": "HBoxModel",
          "model_module_version": "1.5.0",
          "state": {
            "_dom_classes": [],
            "_model_module": "@jupyter-widgets/controls",
            "_model_module_version": "1.5.0",
            "_model_name": "HBoxModel",
            "_view_count": null,
            "_view_module": "@jupyter-widgets/controls",
            "_view_module_version": "1.5.0",
            "_view_name": "HBoxView",
            "box_style": "",
            "children": [
              "IPY_MODEL_5a9269b967fa410f96dff155029d6e57",
              "IPY_MODEL_654923f4363e4fe9a0c0eab93c01a9d2",
              "IPY_MODEL_595c0f9cee3541edb6b1eb59ca9f477b"
            ],
            "layout": "IPY_MODEL_4b3ee9aba37c435484ec9ba0c93fe73f"
          }
        },
        "5a9269b967fa410f96dff155029d6e57": {
          "model_module": "@jupyter-widgets/controls",
          "model_name": "HTMLModel",
          "model_module_version": "1.5.0",
          "state": {
            "_dom_classes": [],
            "_model_module": "@jupyter-widgets/controls",
            "_model_module_version": "1.5.0",
            "_model_name": "HTMLModel",
            "_view_count": null,
            "_view_module": "@jupyter-widgets/controls",
            "_view_module_version": "1.5.0",
            "_view_name": "HTMLView",
            "description": "",
            "description_tooltip": null,
            "layout": "IPY_MODEL_200c933fa14b4f989ab2f94cfcc4d2eb",
            "placeholder": "​",
            "style": "IPY_MODEL_d77d76e7c4674d0aa11ba377b555fe1b",
            "value": "Downloading pytorch_model.bin: 100%"
          }
        },
        "654923f4363e4fe9a0c0eab93c01a9d2": {
          "model_module": "@jupyter-widgets/controls",
          "model_name": "FloatProgressModel",
          "model_module_version": "1.5.0",
          "state": {
            "_dom_classes": [],
            "_model_module": "@jupyter-widgets/controls",
            "_model_module_version": "1.5.0",
            "_model_name": "FloatProgressModel",
            "_view_count": null,
            "_view_module": "@jupyter-widgets/controls",
            "_view_module_version": "1.5.0",
            "_view_name": "ProgressView",
            "bar_style": "success",
            "description": "",
            "description_tooltip": null,
            "layout": "IPY_MODEL_560b40c38d244f999aa30873e34c818d",
            "max": 496313727,
            "min": 0,
            "orientation": "horizontal",
            "style": "IPY_MODEL_4d8795887ee94d86ab64eddac0ea9969",
            "value": 496313727
          }
        },
        "595c0f9cee3541edb6b1eb59ca9f477b": {
          "model_module": "@jupyter-widgets/controls",
          "model_name": "HTMLModel",
          "model_module_version": "1.5.0",
          "state": {
            "_dom_classes": [],
            "_model_module": "@jupyter-widgets/controls",
            "_model_module_version": "1.5.0",
            "_model_name": "HTMLModel",
            "_view_count": null,
            "_view_module": "@jupyter-widgets/controls",
            "_view_module_version": "1.5.0",
            "_view_name": "HTMLView",
            "description": "",
            "description_tooltip": null,
            "layout": "IPY_MODEL_d8b5304996a541efa410f2a2b25d474b",
            "placeholder": "​",
            "style": "IPY_MODEL_94354a04e4a54d69b131882cf8ad5054",
            "value": " 473M/473M [05:07&lt;00:00, 1.55MB/s]"
          }
        },
        "4b3ee9aba37c435484ec9ba0c93fe73f": {
          "model_module": "@jupyter-widgets/base",
          "model_name": "LayoutModel",
          "model_module_version": "1.2.0",
          "state": {
            "_model_module": "@jupyter-widgets/base",
            "_model_module_version": "1.2.0",
            "_model_name": "LayoutModel",
            "_view_count": null,
            "_view_module": "@jupyter-widgets/base",
            "_view_module_version": "1.2.0",
            "_view_name": "LayoutView",
            "align_content": null,
            "align_items": null,
            "align_self": null,
            "border": null,
            "bottom": null,
            "display": null,
            "flex": null,
            "flex_flow": null,
            "grid_area": null,
            "grid_auto_columns": null,
            "grid_auto_flow": null,
            "grid_auto_rows": null,
            "grid_column": null,
            "grid_gap": null,
            "grid_row": null,
            "grid_template_areas": null,
            "grid_template_columns": null,
            "grid_template_rows": null,
            "height": null,
            "justify_content": null,
            "justify_items": null,
            "left": null,
            "margin": null,
            "max_height": null,
            "max_width": null,
            "min_height": null,
            "min_width": null,
            "object_fit": null,
            "object_position": null,
            "order": null,
            "overflow": null,
            "overflow_x": null,
            "overflow_y": null,
            "padding": null,
            "right": null,
            "top": null,
            "visibility": null,
            "width": null
          }
        },
        "200c933fa14b4f989ab2f94cfcc4d2eb": {
          "model_module": "@jupyter-widgets/base",
          "model_name": "LayoutModel",
          "model_module_version": "1.2.0",
          "state": {
            "_model_module": "@jupyter-widgets/base",
            "_model_module_version": "1.2.0",
            "_model_name": "LayoutModel",
            "_view_count": null,
            "_view_module": "@jupyter-widgets/base",
            "_view_module_version": "1.2.0",
            "_view_name": "LayoutView",
            "align_content": null,
            "align_items": null,
            "align_self": null,
            "border": null,
            "bottom": null,
            "display": null,
            "flex": null,
            "flex_flow": null,
            "grid_area": null,
            "grid_auto_columns": null,
            "grid_auto_flow": null,
            "grid_auto_rows": null,
            "grid_column": null,
            "grid_gap": null,
            "grid_row": null,
            "grid_template_areas": null,
            "grid_template_columns": null,
            "grid_template_rows": null,
            "height": null,
            "justify_content": null,
            "justify_items": null,
            "left": null,
            "margin": null,
            "max_height": null,
            "max_width": null,
            "min_height": null,
            "min_width": null,
            "object_fit": null,
            "object_position": null,
            "order": null,
            "overflow": null,
            "overflow_x": null,
            "overflow_y": null,
            "padding": null,
            "right": null,
            "top": null,
            "visibility": null,
            "width": null
          }
        },
        "d77d76e7c4674d0aa11ba377b555fe1b": {
          "model_module": "@jupyter-widgets/controls",
          "model_name": "DescriptionStyleModel",
          "model_module_version": "1.5.0",
          "state": {
            "_model_module": "@jupyter-widgets/controls",
            "_model_module_version": "1.5.0",
            "_model_name": "DescriptionStyleModel",
            "_view_count": null,
            "_view_module": "@jupyter-widgets/base",
            "_view_module_version": "1.2.0",
            "_view_name": "StyleView",
            "description_width": ""
          }
        },
        "560b40c38d244f999aa30873e34c818d": {
          "model_module": "@jupyter-widgets/base",
          "model_name": "LayoutModel",
          "model_module_version": "1.2.0",
          "state": {
            "_model_module": "@jupyter-widgets/base",
            "_model_module_version": "1.2.0",
            "_model_name": "LayoutModel",
            "_view_count": null,
            "_view_module": "@jupyter-widgets/base",
            "_view_module_version": "1.2.0",
            "_view_name": "LayoutView",
            "align_content": null,
            "align_items": null,
            "align_self": null,
            "border": null,
            "bottom": null,
            "display": null,
            "flex": null,
            "flex_flow": null,
            "grid_area": null,
            "grid_auto_columns": null,
            "grid_auto_flow": null,
            "grid_auto_rows": null,
            "grid_column": null,
            "grid_gap": null,
            "grid_row": null,
            "grid_template_areas": null,
            "grid_template_columns": null,
            "grid_template_rows": null,
            "height": null,
            "justify_content": null,
            "justify_items": null,
            "left": null,
            "margin": null,
            "max_height": null,
            "max_width": null,
            "min_height": null,
            "min_width": null,
            "object_fit": null,
            "object_position": null,
            "order": null,
            "overflow": null,
            "overflow_x": null,
            "overflow_y": null,
            "padding": null,
            "right": null,
            "top": null,
            "visibility": null,
            "width": null
          }
        },
        "4d8795887ee94d86ab64eddac0ea9969": {
          "model_module": "@jupyter-widgets/controls",
          "model_name": "ProgressStyleModel",
          "model_module_version": "1.5.0",
          "state": {
            "_model_module": "@jupyter-widgets/controls",
            "_model_module_version": "1.5.0",
            "_model_name": "ProgressStyleModel",
            "_view_count": null,
            "_view_module": "@jupyter-widgets/base",
            "_view_module_version": "1.2.0",
            "_view_name": "StyleView",
            "bar_color": null,
            "description_width": ""
          }
        },
        "d8b5304996a541efa410f2a2b25d474b": {
          "model_module": "@jupyter-widgets/base",
          "model_name": "LayoutModel",
          "model_module_version": "1.2.0",
          "state": {
            "_model_module": "@jupyter-widgets/base",
            "_model_module_version": "1.2.0",
            "_model_name": "LayoutModel",
            "_view_count": null,
            "_view_module": "@jupyter-widgets/base",
            "_view_module_version": "1.2.0",
            "_view_name": "LayoutView",
            "align_content": null,
            "align_items": null,
            "align_self": null,
            "border": null,
            "bottom": null,
            "display": null,
            "flex": null,
            "flex_flow": null,
            "grid_area": null,
            "grid_auto_columns": null,
            "grid_auto_flow": null,
            "grid_auto_rows": null,
            "grid_column": null,
            "grid_gap": null,
            "grid_row": null,
            "grid_template_areas": null,
            "grid_template_columns": null,
            "grid_template_rows": null,
            "height": null,
            "justify_content": null,
            "justify_items": null,
            "left": null,
            "margin": null,
            "max_height": null,
            "max_width": null,
            "min_height": null,
            "min_width": null,
            "object_fit": null,
            "object_position": null,
            "order": null,
            "overflow": null,
            "overflow_x": null,
            "overflow_y": null,
            "padding": null,
            "right": null,
            "top": null,
            "visibility": null,
            "width": null
          }
        },
        "94354a04e4a54d69b131882cf8ad5054": {
          "model_module": "@jupyter-widgets/controls",
          "model_name": "DescriptionStyleModel",
          "model_module_version": "1.5.0",
          "state": {
            "_model_module": "@jupyter-widgets/controls",
            "_model_module_version": "1.5.0",
            "_model_name": "DescriptionStyleModel",
            "_view_count": null,
            "_view_module": "@jupyter-widgets/base",
            "_view_module_version": "1.2.0",
            "_view_name": "StyleView",
            "description_width": ""
          }
        },
        "1890e3fcab254643ad16567d8f479620": {
          "model_module": "@jupyter-widgets/controls",
          "model_name": "HBoxModel",
          "model_module_version": "1.5.0",
          "state": {
            "_dom_classes": [],
            "_model_module": "@jupyter-widgets/controls",
            "_model_module_version": "1.5.0",
            "_model_name": "HBoxModel",
            "_view_count": null,
            "_view_module": "@jupyter-widgets/controls",
            "_view_module_version": "1.5.0",
            "_view_name": "HBoxView",
            "box_style": "",
            "children": [
              "IPY_MODEL_ce0f5959491c4aa3b1e3821c18ec6327",
              "IPY_MODEL_3510635e3f9b42aab7493cb8575baa9d",
              "IPY_MODEL_083d9f59ad254044aa926c9f8ec8217e"
            ],
            "layout": "IPY_MODEL_41288d8ac0364fa9a8a45c81fb9cd452"
          }
        },
        "ce0f5959491c4aa3b1e3821c18ec6327": {
          "model_module": "@jupyter-widgets/controls",
          "model_name": "HTMLModel",
          "model_module_version": "1.5.0",
          "state": {
            "_dom_classes": [],
            "_model_module": "@jupyter-widgets/controls",
            "_model_module_version": "1.5.0",
            "_model_name": "HTMLModel",
            "_view_count": null,
            "_view_module": "@jupyter-widgets/controls",
            "_view_module_version": "1.5.0",
            "_view_name": "HTMLView",
            "description": "",
            "description_tooltip": null,
            "layout": "IPY_MODEL_15feb0c0d35648efbe44510d343ac8ff",
            "placeholder": "​",
            "style": "IPY_MODEL_2f3248126f3748dba6a23a1c866f5163",
            "value": "Downloading tokenizer_config.json: 100%"
          }
        },
        "3510635e3f9b42aab7493cb8575baa9d": {
          "model_module": "@jupyter-widgets/controls",
          "model_name": "FloatProgressModel",
          "model_module_version": "1.5.0",
          "state": {
            "_dom_classes": [],
            "_model_module": "@jupyter-widgets/controls",
            "_model_module_version": "1.5.0",
            "_model_name": "FloatProgressModel",
            "_view_count": null,
            "_view_module": "@jupyter-widgets/controls",
            "_view_module_version": "1.5.0",
            "_view_name": "ProgressView",
            "bar_style": "success",
            "description": "",
            "description_tooltip": null,
            "layout": "IPY_MODEL_5842c7ce15754d96bd73c9b9df8308a3",
            "max": 79,
            "min": 0,
            "orientation": "horizontal",
            "style": "IPY_MODEL_876e82684dff4cf5942d1efe4dff2936",
            "value": 79
          }
        },
        "083d9f59ad254044aa926c9f8ec8217e": {
          "model_module": "@jupyter-widgets/controls",
          "model_name": "HTMLModel",
          "model_module_version": "1.5.0",
          "state": {
            "_dom_classes": [],
            "_model_module": "@jupyter-widgets/controls",
            "_model_module_version": "1.5.0",
            "_model_name": "HTMLModel",
            "_view_count": null,
            "_view_module": "@jupyter-widgets/controls",
            "_view_module_version": "1.5.0",
            "_view_name": "HTMLView",
            "description": "",
            "description_tooltip": null,
            "layout": "IPY_MODEL_9b81e85669264bb594e72c2e2e5eea26",
            "placeholder": "​",
            "style": "IPY_MODEL_7c187b14df1a4fd389d694d6f4bc27c9",
            "value": " 79.0/79.0 [00:00&lt;00:00, 2.99kB/s]"
          }
        },
        "41288d8ac0364fa9a8a45c81fb9cd452": {
          "model_module": "@jupyter-widgets/base",
          "model_name": "LayoutModel",
          "model_module_version": "1.2.0",
          "state": {
            "_model_module": "@jupyter-widgets/base",
            "_model_module_version": "1.2.0",
            "_model_name": "LayoutModel",
            "_view_count": null,
            "_view_module": "@jupyter-widgets/base",
            "_view_module_version": "1.2.0",
            "_view_name": "LayoutView",
            "align_content": null,
            "align_items": null,
            "align_self": null,
            "border": null,
            "bottom": null,
            "display": null,
            "flex": null,
            "flex_flow": null,
            "grid_area": null,
            "grid_auto_columns": null,
            "grid_auto_flow": null,
            "grid_auto_rows": null,
            "grid_column": null,
            "grid_gap": null,
            "grid_row": null,
            "grid_template_areas": null,
            "grid_template_columns": null,
            "grid_template_rows": null,
            "height": null,
            "justify_content": null,
            "justify_items": null,
            "left": null,
            "margin": null,
            "max_height": null,
            "max_width": null,
            "min_height": null,
            "min_width": null,
            "object_fit": null,
            "object_position": null,
            "order": null,
            "overflow": null,
            "overflow_x": null,
            "overflow_y": null,
            "padding": null,
            "right": null,
            "top": null,
            "visibility": null,
            "width": null
          }
        },
        "15feb0c0d35648efbe44510d343ac8ff": {
          "model_module": "@jupyter-widgets/base",
          "model_name": "LayoutModel",
          "model_module_version": "1.2.0",
          "state": {
            "_model_module": "@jupyter-widgets/base",
            "_model_module_version": "1.2.0",
            "_model_name": "LayoutModel",
            "_view_count": null,
            "_view_module": "@jupyter-widgets/base",
            "_view_module_version": "1.2.0",
            "_view_name": "LayoutView",
            "align_content": null,
            "align_items": null,
            "align_self": null,
            "border": null,
            "bottom": null,
            "display": null,
            "flex": null,
            "flex_flow": null,
            "grid_area": null,
            "grid_auto_columns": null,
            "grid_auto_flow": null,
            "grid_auto_rows": null,
            "grid_column": null,
            "grid_gap": null,
            "grid_row": null,
            "grid_template_areas": null,
            "grid_template_columns": null,
            "grid_template_rows": null,
            "height": null,
            "justify_content": null,
            "justify_items": null,
            "left": null,
            "margin": null,
            "max_height": null,
            "max_width": null,
            "min_height": null,
            "min_width": null,
            "object_fit": null,
            "object_position": null,
            "order": null,
            "overflow": null,
            "overflow_x": null,
            "overflow_y": null,
            "padding": null,
            "right": null,
            "top": null,
            "visibility": null,
            "width": null
          }
        },
        "2f3248126f3748dba6a23a1c866f5163": {
          "model_module": "@jupyter-widgets/controls",
          "model_name": "DescriptionStyleModel",
          "model_module_version": "1.5.0",
          "state": {
            "_model_module": "@jupyter-widgets/controls",
            "_model_module_version": "1.5.0",
            "_model_name": "DescriptionStyleModel",
            "_view_count": null,
            "_view_module": "@jupyter-widgets/base",
            "_view_module_version": "1.2.0",
            "_view_name": "StyleView",
            "description_width": ""
          }
        },
        "5842c7ce15754d96bd73c9b9df8308a3": {
          "model_module": "@jupyter-widgets/base",
          "model_name": "LayoutModel",
          "model_module_version": "1.2.0",
          "state": {
            "_model_module": "@jupyter-widgets/base",
            "_model_module_version": "1.2.0",
            "_model_name": "LayoutModel",
            "_view_count": null,
            "_view_module": "@jupyter-widgets/base",
            "_view_module_version": "1.2.0",
            "_view_name": "LayoutView",
            "align_content": null,
            "align_items": null,
            "align_self": null,
            "border": null,
            "bottom": null,
            "display": null,
            "flex": null,
            "flex_flow": null,
            "grid_area": null,
            "grid_auto_columns": null,
            "grid_auto_flow": null,
            "grid_auto_rows": null,
            "grid_column": null,
            "grid_gap": null,
            "grid_row": null,
            "grid_template_areas": null,
            "grid_template_columns": null,
            "grid_template_rows": null,
            "height": null,
            "justify_content": null,
            "justify_items": null,
            "left": null,
            "margin": null,
            "max_height": null,
            "max_width": null,
            "min_height": null,
            "min_width": null,
            "object_fit": null,
            "object_position": null,
            "order": null,
            "overflow": null,
            "overflow_x": null,
            "overflow_y": null,
            "padding": null,
            "right": null,
            "top": null,
            "visibility": null,
            "width": null
          }
        },
        "876e82684dff4cf5942d1efe4dff2936": {
          "model_module": "@jupyter-widgets/controls",
          "model_name": "ProgressStyleModel",
          "model_module_version": "1.5.0",
          "state": {
            "_model_module": "@jupyter-widgets/controls",
            "_model_module_version": "1.5.0",
            "_model_name": "ProgressStyleModel",
            "_view_count": null,
            "_view_module": "@jupyter-widgets/base",
            "_view_module_version": "1.2.0",
            "_view_name": "StyleView",
            "bar_color": null,
            "description_width": ""
          }
        },
        "9b81e85669264bb594e72c2e2e5eea26": {
          "model_module": "@jupyter-widgets/base",
          "model_name": "LayoutModel",
          "model_module_version": "1.2.0",
          "state": {
            "_model_module": "@jupyter-widgets/base",
            "_model_module_version": "1.2.0",
            "_model_name": "LayoutModel",
            "_view_count": null,
            "_view_module": "@jupyter-widgets/base",
            "_view_module_version": "1.2.0",
            "_view_name": "LayoutView",
            "align_content": null,
            "align_items": null,
            "align_self": null,
            "border": null,
            "bottom": null,
            "display": null,
            "flex": null,
            "flex_flow": null,
            "grid_area": null,
            "grid_auto_columns": null,
            "grid_auto_flow": null,
            "grid_auto_rows": null,
            "grid_column": null,
            "grid_gap": null,
            "grid_row": null,
            "grid_template_areas": null,
            "grid_template_columns": null,
            "grid_template_rows": null,
            "height": null,
            "justify_content": null,
            "justify_items": null,
            "left": null,
            "margin": null,
            "max_height": null,
            "max_width": null,
            "min_height": null,
            "min_width": null,
            "object_fit": null,
            "object_position": null,
            "order": null,
            "overflow": null,
            "overflow_x": null,
            "overflow_y": null,
            "padding": null,
            "right": null,
            "top": null,
            "visibility": null,
            "width": null
          }
        },
        "7c187b14df1a4fd389d694d6f4bc27c9": {
          "model_module": "@jupyter-widgets/controls",
          "model_name": "DescriptionStyleModel",
          "model_module_version": "1.5.0",
          "state": {
            "_model_module": "@jupyter-widgets/controls",
            "_model_module_version": "1.5.0",
            "_model_name": "DescriptionStyleModel",
            "_view_count": null,
            "_view_module": "@jupyter-widgets/base",
            "_view_module_version": "1.2.0",
            "_view_name": "StyleView",
            "description_width": ""
          }
        },
        "565504d8e6cc4b5d9a2442c44e6bda85": {
          "model_module": "@jupyter-widgets/controls",
          "model_name": "HBoxModel",
          "model_module_version": "1.5.0",
          "state": {
            "_dom_classes": [],
            "_model_module": "@jupyter-widgets/controls",
            "_model_module_version": "1.5.0",
            "_model_name": "HBoxModel",
            "_view_count": null,
            "_view_module": "@jupyter-widgets/controls",
            "_view_module_version": "1.5.0",
            "_view_name": "HBoxView",
            "box_style": "",
            "children": [
              "IPY_MODEL_621112ace0604b87a74a78e652218d85",
              "IPY_MODEL_21591f29122948dd8443cec5c4fd4bb8",
              "IPY_MODEL_799e4f93bda148c7a8bfe331e5e00da0"
            ],
            "layout": "IPY_MODEL_4c5bc3e80ead4c78aa5d6da85f8c4034"
          }
        },
        "621112ace0604b87a74a78e652218d85": {
          "model_module": "@jupyter-widgets/controls",
          "model_name": "HTMLModel",
          "model_module_version": "1.5.0",
          "state": {
            "_dom_classes": [],
            "_model_module": "@jupyter-widgets/controls",
            "_model_module_version": "1.5.0",
            "_model_name": "HTMLModel",
            "_view_count": null,
            "_view_module": "@jupyter-widgets/controls",
            "_view_module_version": "1.5.0",
            "_view_name": "HTMLView",
            "description": "",
            "description_tooltip": null,
            "layout": "IPY_MODEL_015b3e94d3654630aaff3061c0253db5",
            "placeholder": "​",
            "style": "IPY_MODEL_23ecebc9393c4c6cb2907affbcd7bcb0",
            "value": "Downloading vocab.json: 100%"
          }
        },
        "21591f29122948dd8443cec5c4fd4bb8": {
          "model_module": "@jupyter-widgets/controls",
          "model_name": "FloatProgressModel",
          "model_module_version": "1.5.0",
          "state": {
            "_dom_classes": [],
            "_model_module": "@jupyter-widgets/controls",
            "_model_module_version": "1.5.0",
            "_model_name": "FloatProgressModel",
            "_view_count": null,
            "_view_module": "@jupyter-widgets/controls",
            "_view_module_version": "1.5.0",
            "_view_name": "ProgressView",
            "bar_style": "success",
            "description": "",
            "description_tooltip": null,
            "layout": "IPY_MODEL_f1f70fa6de6c4f9090f8c3dc26fd11dd",
            "max": 898822,
            "min": 0,
            "orientation": "horizontal",
            "style": "IPY_MODEL_476a6d74557d4278a1034b23c138a31b",
            "value": 898822
          }
        },
        "799e4f93bda148c7a8bfe331e5e00da0": {
          "model_module": "@jupyter-widgets/controls",
          "model_name": "HTMLModel",
          "model_module_version": "1.5.0",
          "state": {
            "_dom_classes": [],
            "_model_module": "@jupyter-widgets/controls",
            "_model_module_version": "1.5.0",
            "_model_name": "HTMLModel",
            "_view_count": null,
            "_view_module": "@jupyter-widgets/controls",
            "_view_module_version": "1.5.0",
            "_view_name": "HTMLView",
            "description": "",
            "description_tooltip": null,
            "layout": "IPY_MODEL_ec89f9d6d6c54c02919759b6c87fbc85",
            "placeholder": "​",
            "style": "IPY_MODEL_03ddeb5524ca4a57970df815198e9c03",
            "value": " 878k/878k [00:00&lt;00:00, 690kB/s]"
          }
        },
        "4c5bc3e80ead4c78aa5d6da85f8c4034": {
          "model_module": "@jupyter-widgets/base",
          "model_name": "LayoutModel",
          "model_module_version": "1.2.0",
          "state": {
            "_model_module": "@jupyter-widgets/base",
            "_model_module_version": "1.2.0",
            "_model_name": "LayoutModel",
            "_view_count": null,
            "_view_module": "@jupyter-widgets/base",
            "_view_module_version": "1.2.0",
            "_view_name": "LayoutView",
            "align_content": null,
            "align_items": null,
            "align_self": null,
            "border": null,
            "bottom": null,
            "display": null,
            "flex": null,
            "flex_flow": null,
            "grid_area": null,
            "grid_auto_columns": null,
            "grid_auto_flow": null,
            "grid_auto_rows": null,
            "grid_column": null,
            "grid_gap": null,
            "grid_row": null,
            "grid_template_areas": null,
            "grid_template_columns": null,
            "grid_template_rows": null,
            "height": null,
            "justify_content": null,
            "justify_items": null,
            "left": null,
            "margin": null,
            "max_height": null,
            "max_width": null,
            "min_height": null,
            "min_width": null,
            "object_fit": null,
            "object_position": null,
            "order": null,
            "overflow": null,
            "overflow_x": null,
            "overflow_y": null,
            "padding": null,
            "right": null,
            "top": null,
            "visibility": null,
            "width": null
          }
        },
        "015b3e94d3654630aaff3061c0253db5": {
          "model_module": "@jupyter-widgets/base",
          "model_name": "LayoutModel",
          "model_module_version": "1.2.0",
          "state": {
            "_model_module": "@jupyter-widgets/base",
            "_model_module_version": "1.2.0",
            "_model_name": "LayoutModel",
            "_view_count": null,
            "_view_module": "@jupyter-widgets/base",
            "_view_module_version": "1.2.0",
            "_view_name": "LayoutView",
            "align_content": null,
            "align_items": null,
            "align_self": null,
            "border": null,
            "bottom": null,
            "display": null,
            "flex": null,
            "flex_flow": null,
            "grid_area": null,
            "grid_auto_columns": null,
            "grid_auto_flow": null,
            "grid_auto_rows": null,
            "grid_column": null,
            "grid_gap": null,
            "grid_row": null,
            "grid_template_areas": null,
            "grid_template_columns": null,
            "grid_template_rows": null,
            "height": null,
            "justify_content": null,
            "justify_items": null,
            "left": null,
            "margin": null,
            "max_height": null,
            "max_width": null,
            "min_height": null,
            "min_width": null,
            "object_fit": null,
            "object_position": null,
            "order": null,
            "overflow": null,
            "overflow_x": null,
            "overflow_y": null,
            "padding": null,
            "right": null,
            "top": null,
            "visibility": null,
            "width": null
          }
        },
        "23ecebc9393c4c6cb2907affbcd7bcb0": {
          "model_module": "@jupyter-widgets/controls",
          "model_name": "DescriptionStyleModel",
          "model_module_version": "1.5.0",
          "state": {
            "_model_module": "@jupyter-widgets/controls",
            "_model_module_version": "1.5.0",
            "_model_name": "DescriptionStyleModel",
            "_view_count": null,
            "_view_module": "@jupyter-widgets/base",
            "_view_module_version": "1.2.0",
            "_view_name": "StyleView",
            "description_width": ""
          }
        },
        "f1f70fa6de6c4f9090f8c3dc26fd11dd": {
          "model_module": "@jupyter-widgets/base",
          "model_name": "LayoutModel",
          "model_module_version": "1.2.0",
          "state": {
            "_model_module": "@jupyter-widgets/base",
            "_model_module_version": "1.2.0",
            "_model_name": "LayoutModel",
            "_view_count": null,
            "_view_module": "@jupyter-widgets/base",
            "_view_module_version": "1.2.0",
            "_view_name": "LayoutView",
            "align_content": null,
            "align_items": null,
            "align_self": null,
            "border": null,
            "bottom": null,
            "display": null,
            "flex": null,
            "flex_flow": null,
            "grid_area": null,
            "grid_auto_columns": null,
            "grid_auto_flow": null,
            "grid_auto_rows": null,
            "grid_column": null,
            "grid_gap": null,
            "grid_row": null,
            "grid_template_areas": null,
            "grid_template_columns": null,
            "grid_template_rows": null,
            "height": null,
            "justify_content": null,
            "justify_items": null,
            "left": null,
            "margin": null,
            "max_height": null,
            "max_width": null,
            "min_height": null,
            "min_width": null,
            "object_fit": null,
            "object_position": null,
            "order": null,
            "overflow": null,
            "overflow_x": null,
            "overflow_y": null,
            "padding": null,
            "right": null,
            "top": null,
            "visibility": null,
            "width": null
          }
        },
        "476a6d74557d4278a1034b23c138a31b": {
          "model_module": "@jupyter-widgets/controls",
          "model_name": "ProgressStyleModel",
          "model_module_version": "1.5.0",
          "state": {
            "_model_module": "@jupyter-widgets/controls",
            "_model_module_version": "1.5.0",
            "_model_name": "ProgressStyleModel",
            "_view_count": null,
            "_view_module": "@jupyter-widgets/base",
            "_view_module_version": "1.2.0",
            "_view_name": "StyleView",
            "bar_color": null,
            "description_width": ""
          }
        },
        "ec89f9d6d6c54c02919759b6c87fbc85": {
          "model_module": "@jupyter-widgets/base",
          "model_name": "LayoutModel",
          "model_module_version": "1.2.0",
          "state": {
            "_model_module": "@jupyter-widgets/base",
            "_model_module_version": "1.2.0",
            "_model_name": "LayoutModel",
            "_view_count": null,
            "_view_module": "@jupyter-widgets/base",
            "_view_module_version": "1.2.0",
            "_view_name": "LayoutView",
            "align_content": null,
            "align_items": null,
            "align_self": null,
            "border": null,
            "bottom": null,
            "display": null,
            "flex": null,
            "flex_flow": null,
            "grid_area": null,
            "grid_auto_columns": null,
            "grid_auto_flow": null,
            "grid_auto_rows": null,
            "grid_column": null,
            "grid_gap": null,
            "grid_row": null,
            "grid_template_areas": null,
            "grid_template_columns": null,
            "grid_template_rows": null,
            "height": null,
            "justify_content": null,
            "justify_items": null,
            "left": null,
            "margin": null,
            "max_height": null,
            "max_width": null,
            "min_height": null,
            "min_width": null,
            "object_fit": null,
            "object_position": null,
            "order": null,
            "overflow": null,
            "overflow_x": null,
            "overflow_y": null,
            "padding": null,
            "right": null,
            "top": null,
            "visibility": null,
            "width": null
          }
        },
        "03ddeb5524ca4a57970df815198e9c03": {
          "model_module": "@jupyter-widgets/controls",
          "model_name": "DescriptionStyleModel",
          "model_module_version": "1.5.0",
          "state": {
            "_model_module": "@jupyter-widgets/controls",
            "_model_module_version": "1.5.0",
            "_model_name": "DescriptionStyleModel",
            "_view_count": null,
            "_view_module": "@jupyter-widgets/base",
            "_view_module_version": "1.2.0",
            "_view_name": "StyleView",
            "description_width": ""
          }
        },
        "b59d5165fca5458e9ad54a675ab0227b": {
          "model_module": "@jupyter-widgets/controls",
          "model_name": "HBoxModel",
          "model_module_version": "1.5.0",
          "state": {
            "_dom_classes": [],
            "_model_module": "@jupyter-widgets/controls",
            "_model_module_version": "1.5.0",
            "_model_name": "HBoxModel",
            "_view_count": null,
            "_view_module": "@jupyter-widgets/controls",
            "_view_module_version": "1.5.0",
            "_view_name": "HBoxView",
            "box_style": "",
            "children": [
              "IPY_MODEL_35e83855d5cd47b388a83e69da4bae06",
              "IPY_MODEL_808d1b845eb54809aa47acacb3439e5f",
              "IPY_MODEL_5b0837f5f8b14bbe8799948f35e34723"
            ],
            "layout": "IPY_MODEL_d5bfd5e8527346cdbc1d7c43b3688b3a"
          }
        },
        "35e83855d5cd47b388a83e69da4bae06": {
          "model_module": "@jupyter-widgets/controls",
          "model_name": "HTMLModel",
          "model_module_version": "1.5.0",
          "state": {
            "_dom_classes": [],
            "_model_module": "@jupyter-widgets/controls",
            "_model_module_version": "1.5.0",
            "_model_name": "HTMLModel",
            "_view_count": null,
            "_view_module": "@jupyter-widgets/controls",
            "_view_module_version": "1.5.0",
            "_view_name": "HTMLView",
            "description": "",
            "description_tooltip": null,
            "layout": "IPY_MODEL_6f322bcc3e994a1d9baf650ce3ada5b9",
            "placeholder": "​",
            "style": "IPY_MODEL_a5f594058d0f4cdab87409577c94e9cc",
            "value": "Downloading merges.txt: 100%"
          }
        },
        "808d1b845eb54809aa47acacb3439e5f": {
          "model_module": "@jupyter-widgets/controls",
          "model_name": "FloatProgressModel",
          "model_module_version": "1.5.0",
          "state": {
            "_dom_classes": [],
            "_model_module": "@jupyter-widgets/controls",
            "_model_module_version": "1.5.0",
            "_model_name": "FloatProgressModel",
            "_view_count": null,
            "_view_module": "@jupyter-widgets/controls",
            "_view_module_version": "1.5.0",
            "_view_name": "ProgressView",
            "bar_style": "success",
            "description": "",
            "description_tooltip": null,
            "layout": "IPY_MODEL_381f6749e10941b2a8a946d446f79960",
            "max": 456318,
            "min": 0,
            "orientation": "horizontal",
            "style": "IPY_MODEL_effeb218d3c84e0cbab945dccfd019f0",
            "value": 456318
          }
        },
        "5b0837f5f8b14bbe8799948f35e34723": {
          "model_module": "@jupyter-widgets/controls",
          "model_name": "HTMLModel",
          "model_module_version": "1.5.0",
          "state": {
            "_dom_classes": [],
            "_model_module": "@jupyter-widgets/controls",
            "_model_module_version": "1.5.0",
            "_model_name": "HTMLModel",
            "_view_count": null,
            "_view_module": "@jupyter-widgets/controls",
            "_view_module_version": "1.5.0",
            "_view_name": "HTMLView",
            "description": "",
            "description_tooltip": null,
            "layout": "IPY_MODEL_67831d612f6f48979f5d5f0834de5c2b",
            "placeholder": "​",
            "style": "IPY_MODEL_f1bc4b6920634a42b3c5291846c81d62",
            "value": " 446k/446k [00:00&lt;00:00, 640kB/s]"
          }
        },
        "d5bfd5e8527346cdbc1d7c43b3688b3a": {
          "model_module": "@jupyter-widgets/base",
          "model_name": "LayoutModel",
          "model_module_version": "1.2.0",
          "state": {
            "_model_module": "@jupyter-widgets/base",
            "_model_module_version": "1.2.0",
            "_model_name": "LayoutModel",
            "_view_count": null,
            "_view_module": "@jupyter-widgets/base",
            "_view_module_version": "1.2.0",
            "_view_name": "LayoutView",
            "align_content": null,
            "align_items": null,
            "align_self": null,
            "border": null,
            "bottom": null,
            "display": null,
            "flex": null,
            "flex_flow": null,
            "grid_area": null,
            "grid_auto_columns": null,
            "grid_auto_flow": null,
            "grid_auto_rows": null,
            "grid_column": null,
            "grid_gap": null,
            "grid_row": null,
            "grid_template_areas": null,
            "grid_template_columns": null,
            "grid_template_rows": null,
            "height": null,
            "justify_content": null,
            "justify_items": null,
            "left": null,
            "margin": null,
            "max_height": null,
            "max_width": null,
            "min_height": null,
            "min_width": null,
            "object_fit": null,
            "object_position": null,
            "order": null,
            "overflow": null,
            "overflow_x": null,
            "overflow_y": null,
            "padding": null,
            "right": null,
            "top": null,
            "visibility": null,
            "width": null
          }
        },
        "6f322bcc3e994a1d9baf650ce3ada5b9": {
          "model_module": "@jupyter-widgets/base",
          "model_name": "LayoutModel",
          "model_module_version": "1.2.0",
          "state": {
            "_model_module": "@jupyter-widgets/base",
            "_model_module_version": "1.2.0",
            "_model_name": "LayoutModel",
            "_view_count": null,
            "_view_module": "@jupyter-widgets/base",
            "_view_module_version": "1.2.0",
            "_view_name": "LayoutView",
            "align_content": null,
            "align_items": null,
            "align_self": null,
            "border": null,
            "bottom": null,
            "display": null,
            "flex": null,
            "flex_flow": null,
            "grid_area": null,
            "grid_auto_columns": null,
            "grid_auto_flow": null,
            "grid_auto_rows": null,
            "grid_column": null,
            "grid_gap": null,
            "grid_row": null,
            "grid_template_areas": null,
            "grid_template_columns": null,
            "grid_template_rows": null,
            "height": null,
            "justify_content": null,
            "justify_items": null,
            "left": null,
            "margin": null,
            "max_height": null,
            "max_width": null,
            "min_height": null,
            "min_width": null,
            "object_fit": null,
            "object_position": null,
            "order": null,
            "overflow": null,
            "overflow_x": null,
            "overflow_y": null,
            "padding": null,
            "right": null,
            "top": null,
            "visibility": null,
            "width": null
          }
        },
        "a5f594058d0f4cdab87409577c94e9cc": {
          "model_module": "@jupyter-widgets/controls",
          "model_name": "DescriptionStyleModel",
          "model_module_version": "1.5.0",
          "state": {
            "_model_module": "@jupyter-widgets/controls",
            "_model_module_version": "1.5.0",
            "_model_name": "DescriptionStyleModel",
            "_view_count": null,
            "_view_module": "@jupyter-widgets/base",
            "_view_module_version": "1.2.0",
            "_view_name": "StyleView",
            "description_width": ""
          }
        },
        "381f6749e10941b2a8a946d446f79960": {
          "model_module": "@jupyter-widgets/base",
          "model_name": "LayoutModel",
          "model_module_version": "1.2.0",
          "state": {
            "_model_module": "@jupyter-widgets/base",
            "_model_module_version": "1.2.0",
            "_model_name": "LayoutModel",
            "_view_count": null,
            "_view_module": "@jupyter-widgets/base",
            "_view_module_version": "1.2.0",
            "_view_name": "LayoutView",
            "align_content": null,
            "align_items": null,
            "align_self": null,
            "border": null,
            "bottom": null,
            "display": null,
            "flex": null,
            "flex_flow": null,
            "grid_area": null,
            "grid_auto_columns": null,
            "grid_auto_flow": null,
            "grid_auto_rows": null,
            "grid_column": null,
            "grid_gap": null,
            "grid_row": null,
            "grid_template_areas": null,
            "grid_template_columns": null,
            "grid_template_rows": null,
            "height": null,
            "justify_content": null,
            "justify_items": null,
            "left": null,
            "margin": null,
            "max_height": null,
            "max_width": null,
            "min_height": null,
            "min_width": null,
            "object_fit": null,
            "object_position": null,
            "order": null,
            "overflow": null,
            "overflow_x": null,
            "overflow_y": null,
            "padding": null,
            "right": null,
            "top": null,
            "visibility": null,
            "width": null
          }
        },
        "effeb218d3c84e0cbab945dccfd019f0": {
          "model_module": "@jupyter-widgets/controls",
          "model_name": "ProgressStyleModel",
          "model_module_version": "1.5.0",
          "state": {
            "_model_module": "@jupyter-widgets/controls",
            "_model_module_version": "1.5.0",
            "_model_name": "ProgressStyleModel",
            "_view_count": null,
            "_view_module": "@jupyter-widgets/base",
            "_view_module_version": "1.2.0",
            "_view_name": "StyleView",
            "bar_color": null,
            "description_width": ""
          }
        },
        "67831d612f6f48979f5d5f0834de5c2b": {
          "model_module": "@jupyter-widgets/base",
          "model_name": "LayoutModel",
          "model_module_version": "1.2.0",
          "state": {
            "_model_module": "@jupyter-widgets/base",
            "_model_module_version": "1.2.0",
            "_model_name": "LayoutModel",
            "_view_count": null,
            "_view_module": "@jupyter-widgets/base",
            "_view_module_version": "1.2.0",
            "_view_name": "LayoutView",
            "align_content": null,
            "align_items": null,
            "align_self": null,
            "border": null,
            "bottom": null,
            "display": null,
            "flex": null,
            "flex_flow": null,
            "grid_area": null,
            "grid_auto_columns": null,
            "grid_auto_flow": null,
            "grid_auto_rows": null,
            "grid_column": null,
            "grid_gap": null,
            "grid_row": null,
            "grid_template_areas": null,
            "grid_template_columns": null,
            "grid_template_rows": null,
            "height": null,
            "justify_content": null,
            "justify_items": null,
            "left": null,
            "margin": null,
            "max_height": null,
            "max_width": null,
            "min_height": null,
            "min_width": null,
            "object_fit": null,
            "object_position": null,
            "order": null,
            "overflow": null,
            "overflow_x": null,
            "overflow_y": null,
            "padding": null,
            "right": null,
            "top": null,
            "visibility": null,
            "width": null
          }
        },
        "f1bc4b6920634a42b3c5291846c81d62": {
          "model_module": "@jupyter-widgets/controls",
          "model_name": "DescriptionStyleModel",
          "model_module_version": "1.5.0",
          "state": {
            "_model_module": "@jupyter-widgets/controls",
            "_model_module_version": "1.5.0",
            "_model_name": "DescriptionStyleModel",
            "_view_count": null,
            "_view_module": "@jupyter-widgets/base",
            "_view_module_version": "1.2.0",
            "_view_name": "StyleView",
            "description_width": ""
          }
        },
        "72b4cf6cc986428a8f4189588d78ba81": {
          "model_module": "@jupyter-widgets/controls",
          "model_name": "HBoxModel",
          "model_module_version": "1.5.0",
          "state": {
            "_dom_classes": [],
            "_model_module": "@jupyter-widgets/controls",
            "_model_module_version": "1.5.0",
            "_model_name": "HBoxModel",
            "_view_count": null,
            "_view_module": "@jupyter-widgets/controls",
            "_view_module_version": "1.5.0",
            "_view_name": "HBoxView",
            "box_style": "",
            "children": [
              "IPY_MODEL_a968efbd9f574d229fa1f9e06e2026b4",
              "IPY_MODEL_4bd5255aa37442b9bce654314aa1abad",
              "IPY_MODEL_29a0cf25b5904a3c8e11e09ffdcbfc13"
            ],
            "layout": "IPY_MODEL_3c27e2a57b4044e98191929c99361859"
          }
        },
        "a968efbd9f574d229fa1f9e06e2026b4": {
          "model_module": "@jupyter-widgets/controls",
          "model_name": "HTMLModel",
          "model_module_version": "1.5.0",
          "state": {
            "_dom_classes": [],
            "_model_module": "@jupyter-widgets/controls",
            "_model_module_version": "1.5.0",
            "_model_name": "HTMLModel",
            "_view_count": null,
            "_view_module": "@jupyter-widgets/controls",
            "_view_module_version": "1.5.0",
            "_view_name": "HTMLView",
            "description": "",
            "description_tooltip": null,
            "layout": "IPY_MODEL_e5855256fcd94b7dafc2ff8589b6e718",
            "placeholder": "​",
            "style": "IPY_MODEL_f11f0779ab104346ae1c3e53aacce696",
            "value": "Downloading special_tokens_map.json: 100%"
          }
        },
        "4bd5255aa37442b9bce654314aa1abad": {
          "model_module": "@jupyter-widgets/controls",
          "model_name": "FloatProgressModel",
          "model_module_version": "1.5.0",
          "state": {
            "_dom_classes": [],
            "_model_module": "@jupyter-widgets/controls",
            "_model_module_version": "1.5.0",
            "_model_name": "FloatProgressModel",
            "_view_count": null,
            "_view_module": "@jupyter-widgets/controls",
            "_view_module_version": "1.5.0",
            "_view_name": "ProgressView",
            "bar_style": "success",
            "description": "",
            "description_tooltip": null,
            "layout": "IPY_MODEL_a178b094fe5d4edf9735b83bd7eecd0e",
            "max": 772,
            "min": 0,
            "orientation": "horizontal",
            "style": "IPY_MODEL_4bc39a74f8ea47df87460b853e79d75c",
            "value": 772
          }
        },
        "29a0cf25b5904a3c8e11e09ffdcbfc13": {
          "model_module": "@jupyter-widgets/controls",
          "model_name": "HTMLModel",
          "model_module_version": "1.5.0",
          "state": {
            "_dom_classes": [],
            "_model_module": "@jupyter-widgets/controls",
            "_model_module_version": "1.5.0",
            "_model_name": "HTMLModel",
            "_view_count": null,
            "_view_module": "@jupyter-widgets/controls",
            "_view_module_version": "1.5.0",
            "_view_name": "HTMLView",
            "description": "",
            "description_tooltip": null,
            "layout": "IPY_MODEL_376e76ccc31049d997a4a5328cf57650",
            "placeholder": "​",
            "style": "IPY_MODEL_b6293311d9da46acac7dccb055d358b0",
            "value": " 772/772 [00:00&lt;00:00, 28.4kB/s]"
          }
        },
        "3c27e2a57b4044e98191929c99361859": {
          "model_module": "@jupyter-widgets/base",
          "model_name": "LayoutModel",
          "model_module_version": "1.2.0",
          "state": {
            "_model_module": "@jupyter-widgets/base",
            "_model_module_version": "1.2.0",
            "_model_name": "LayoutModel",
            "_view_count": null,
            "_view_module": "@jupyter-widgets/base",
            "_view_module_version": "1.2.0",
            "_view_name": "LayoutView",
            "align_content": null,
            "align_items": null,
            "align_self": null,
            "border": null,
            "bottom": null,
            "display": null,
            "flex": null,
            "flex_flow": null,
            "grid_area": null,
            "grid_auto_columns": null,
            "grid_auto_flow": null,
            "grid_auto_rows": null,
            "grid_column": null,
            "grid_gap": null,
            "grid_row": null,
            "grid_template_areas": null,
            "grid_template_columns": null,
            "grid_template_rows": null,
            "height": null,
            "justify_content": null,
            "justify_items": null,
            "left": null,
            "margin": null,
            "max_height": null,
            "max_width": null,
            "min_height": null,
            "min_width": null,
            "object_fit": null,
            "object_position": null,
            "order": null,
            "overflow": null,
            "overflow_x": null,
            "overflow_y": null,
            "padding": null,
            "right": null,
            "top": null,
            "visibility": null,
            "width": null
          }
        },
        "e5855256fcd94b7dafc2ff8589b6e718": {
          "model_module": "@jupyter-widgets/base",
          "model_name": "LayoutModel",
          "model_module_version": "1.2.0",
          "state": {
            "_model_module": "@jupyter-widgets/base",
            "_model_module_version": "1.2.0",
            "_model_name": "LayoutModel",
            "_view_count": null,
            "_view_module": "@jupyter-widgets/base",
            "_view_module_version": "1.2.0",
            "_view_name": "LayoutView",
            "align_content": null,
            "align_items": null,
            "align_self": null,
            "border": null,
            "bottom": null,
            "display": null,
            "flex": null,
            "flex_flow": null,
            "grid_area": null,
            "grid_auto_columns": null,
            "grid_auto_flow": null,
            "grid_auto_rows": null,
            "grid_column": null,
            "grid_gap": null,
            "grid_row": null,
            "grid_template_areas": null,
            "grid_template_columns": null,
            "grid_template_rows": null,
            "height": null,
            "justify_content": null,
            "justify_items": null,
            "left": null,
            "margin": null,
            "max_height": null,
            "max_width": null,
            "min_height": null,
            "min_width": null,
            "object_fit": null,
            "object_position": null,
            "order": null,
            "overflow": null,
            "overflow_x": null,
            "overflow_y": null,
            "padding": null,
            "right": null,
            "top": null,
            "visibility": null,
            "width": null
          }
        },
        "f11f0779ab104346ae1c3e53aacce696": {
          "model_module": "@jupyter-widgets/controls",
          "model_name": "DescriptionStyleModel",
          "model_module_version": "1.5.0",
          "state": {
            "_model_module": "@jupyter-widgets/controls",
            "_model_module_version": "1.5.0",
            "_model_name": "DescriptionStyleModel",
            "_view_count": null,
            "_view_module": "@jupyter-widgets/base",
            "_view_module_version": "1.2.0",
            "_view_name": "StyleView",
            "description_width": ""
          }
        },
        "a178b094fe5d4edf9735b83bd7eecd0e": {
          "model_module": "@jupyter-widgets/base",
          "model_name": "LayoutModel",
          "model_module_version": "1.2.0",
          "state": {
            "_model_module": "@jupyter-widgets/base",
            "_model_module_version": "1.2.0",
            "_model_name": "LayoutModel",
            "_view_count": null,
            "_view_module": "@jupyter-widgets/base",
            "_view_module_version": "1.2.0",
            "_view_name": "LayoutView",
            "align_content": null,
            "align_items": null,
            "align_self": null,
            "border": null,
            "bottom": null,
            "display": null,
            "flex": null,
            "flex_flow": null,
            "grid_area": null,
            "grid_auto_columns": null,
            "grid_auto_flow": null,
            "grid_auto_rows": null,
            "grid_column": null,
            "grid_gap": null,
            "grid_row": null,
            "grid_template_areas": null,
            "grid_template_columns": null,
            "grid_template_rows": null,
            "height": null,
            "justify_content": null,
            "justify_items": null,
            "left": null,
            "margin": null,
            "max_height": null,
            "max_width": null,
            "min_height": null,
            "min_width": null,
            "object_fit": null,
            "object_position": null,
            "order": null,
            "overflow": null,
            "overflow_x": null,
            "overflow_y": null,
            "padding": null,
            "right": null,
            "top": null,
            "visibility": null,
            "width": null
          }
        },
        "4bc39a74f8ea47df87460b853e79d75c": {
          "model_module": "@jupyter-widgets/controls",
          "model_name": "ProgressStyleModel",
          "model_module_version": "1.5.0",
          "state": {
            "_model_module": "@jupyter-widgets/controls",
            "_model_module_version": "1.5.0",
            "_model_name": "ProgressStyleModel",
            "_view_count": null,
            "_view_module": "@jupyter-widgets/base",
            "_view_module_version": "1.2.0",
            "_view_name": "StyleView",
            "bar_color": null,
            "description_width": ""
          }
        },
        "376e76ccc31049d997a4a5328cf57650": {
          "model_module": "@jupyter-widgets/base",
          "model_name": "LayoutModel",
          "model_module_version": "1.2.0",
          "state": {
            "_model_module": "@jupyter-widgets/base",
            "_model_module_version": "1.2.0",
            "_model_name": "LayoutModel",
            "_view_count": null,
            "_view_module": "@jupyter-widgets/base",
            "_view_module_version": "1.2.0",
            "_view_name": "LayoutView",
            "align_content": null,
            "align_items": null,
            "align_self": null,
            "border": null,
            "bottom": null,
            "display": null,
            "flex": null,
            "flex_flow": null,
            "grid_area": null,
            "grid_auto_columns": null,
            "grid_auto_flow": null,
            "grid_auto_rows": null,
            "grid_column": null,
            "grid_gap": null,
            "grid_row": null,
            "grid_template_areas": null,
            "grid_template_columns": null,
            "grid_template_rows": null,
            "height": null,
            "justify_content": null,
            "justify_items": null,
            "left": null,
            "margin": null,
            "max_height": null,
            "max_width": null,
            "min_height": null,
            "min_width": null,
            "object_fit": null,
            "object_position": null,
            "order": null,
            "overflow": null,
            "overflow_x": null,
            "overflow_y": null,
            "padding": null,
            "right": null,
            "top": null,
            "visibility": null,
            "width": null
          }
        },
        "b6293311d9da46acac7dccb055d358b0": {
          "model_module": "@jupyter-widgets/controls",
          "model_name": "DescriptionStyleModel",
          "model_module_version": "1.5.0",
          "state": {
            "_model_module": "@jupyter-widgets/controls",
            "_model_module_version": "1.5.0",
            "_model_name": "DescriptionStyleModel",
            "_view_count": null,
            "_view_module": "@jupyter-widgets/base",
            "_view_module_version": "1.2.0",
            "_view_name": "StyleView",
            "description_width": ""
          }
        }
      }
    },
    "accelerator": "GPU",
    "gpuClass": "standard"
  },
  "nbformat": 4,
  "nbformat_minor": 0
}